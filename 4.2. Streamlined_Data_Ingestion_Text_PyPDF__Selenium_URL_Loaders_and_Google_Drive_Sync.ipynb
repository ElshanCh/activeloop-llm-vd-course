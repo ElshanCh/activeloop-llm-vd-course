{
 "cells": [
  {
   "cell_type": "markdown",
   "metadata": {},
   "source": [
    "**Introduction**\n",
    "------------\n",
    "\n",
    "The TextLoader handles plain text files, while the PyPDFLoader specializes in PDF files, offering easy access to content and metadata. SeleniumURLLoader is designed for loading HTML documents from URLs that require JavaScript rendering. Lastly, the Google Drive Loader provides seamless integration with Google Drive, allowing for the import of data from Google Docs or folders.\n"
   ]
  },
  {
   "cell_type": "markdown",
   "metadata": {},
   "source": [
    "# TextLoader\n",
    "\n",
    "Import the `LangChain` and necessary loaders from `langchain.document_loaders`. Remember to install the required packages with the following command:\n",
    "\n",
    "```shell\n",
    "pip install langchain==0.0.208 deeplake openai tiktoken\n"
   ]
  },
  {
   "cell_type": "code",
   "execution_count": null,
   "metadata": {},
   "outputs": [],
   "source": [
    "from langchain.document_loaders import TextLoader\n",
    "loader = TextLoader('file_path.txt')\n",
    "documents = loader.load()"
   ]
  },
  {
   "cell_type": "markdown",
   "metadata": {},
   "source": [
    "You can use the `encoding` argument to change the encoding type. (For example: `encoding=\"ISO-8859-1\"`)\n"
   ]
  },
  {
   "cell_type": "markdown",
   "metadata": {},
   "source": [
    "## PyPDFLoader (PDF)\n",
    "\n",
    "The LangChain library provides two methods for loading and processing PDF files: `PyPDFLoader` and `PDFMinerLoader`. We mainly focus on the former, which is used to load PDF files into an array of documents, where each document contains the page content and metadata with the page number.\n",
    "\n",
    "First, install the package using Python Package Manager (PIP).\n"
   ]
  },
  {
   "cell_type": "code",
   "execution_count": 3,
   "metadata": {},
   "outputs": [],
   "source": [
    "!pip install -q pypdf"
   ]
  },
  {
   "cell_type": "markdown",
   "metadata": {},
   "source": [
    "Here's a code snippet to load and split a PDF file using PyPDFLoader:"
   ]
  },
  {
   "cell_type": "code",
   "execution_count": 5,
   "metadata": {},
   "outputs": [
    {
     "name": "stdout",
     "output_type": "stream",
     "text": [
      "page_content='THE ONE     PAGE LINUX MANUALA summary of useful Linux commands\\nVersion 3.0 May 1999 squadron@powerup.com.au\\nStarting & Stopping\\nshutdown -h now Shutdown the system now and do not\\nreboot\\nhalt Stop all processes - same as above\\nshutdown -r 5 Shutdown the system in 5 minutes and\\nreboot\\nshutdown -r now Shutdown the system now and reboot\\nreboot Stop all processes and then reboot - same\\nas above\\nstartx Start the X system\\nAccessing & mounting file systems\\nmount -t iso9660 /dev/cdrom\\n/mnt/cdromMount the device cdrom\\nand call it cdrom under the\\n/mnt directory\\nmount -t msdos /dev/hdd\\n/mnt/ddriveMount hard disk “d” as a\\nmsdos file system and call\\nit ddrive under the /mnt\\ndirectory\\nmount -t vfat /dev/hda1\\n/mnt/cdriveMount hard disk “a” as a\\nVFAT file system and call it\\ncdrive under the /mnt\\ndirectory\\numount /mnt/cdrom Unmount the cdrom\\nFinding files and text within files\\nfind / -name  fname Starting with the root directory, look\\nfor the file called fname\\nfind / -name ”*fname* ” Starting with the root directory, look\\nfor the file containing the string fname\\nlocate missingfilename Find a file called missingfilename\\nusing the locate command - this\\nassumes you have already used the\\ncommand updatedb (see next)\\nupdatedb Create or update the database of files\\non all file systems attached to the linux\\nroot directory\\nwhich missingfilename Show the subdirectory containing the\\nexecutable file  called missingfilename\\ngrep textstringtofind\\n/dirStarting with the directory called dir ,\\nlook for and list all files containing\\ntextstringtofind\\nThe X Window System\\nxvidtune Run the X graphics tuning utility\\nXF86Setup Run the X configuration menu with\\nautomatic probing of graphics cards\\nXconfigurator Run another X configuration menu with\\nautomatic probing of graphics cards\\nxf86config Run a text based X configuration menu\\nMoving, copying, deleting & viewing files\\nls -l List files in current directory using\\nlong format\\nls -F List files in current directory and\\nindicate the file type\\nls -laC List all files in current directory in\\nlong format and display in columnsrm name Remove a file or directory called\\nname\\nrm -rf name Kill off an entire directory and all it’s\\nincludes files and subdirectories\\ncp filename\\n/home/dirnameCopy the file called filename to the\\n/home/dirname directory\\nmv filename\\n/home/dirnameMove the file called filename to the\\n/home/dirname directory\\ncat filetoview Display the file called filetoview\\nman -k keyword Display man pages containing\\nkeyword\\nmore filetoview Display the file called filetoview one\\npage at a time, proceed to next page\\nusing the spacebar\\nhead filetoview Display the first 10 lines of the file\\ncalled filetoview\\nhead -20 filetoview Display the first 20 lines of the file\\ncalled filetoview\\ntail filetoview Display the last 10 lines of the file\\ncalled filetoview\\ntail -20 filetoview Display the last 20 lines of the file\\ncalled filetoview\\nInstalling software for Linux\\nrpm -ihv name.rpm Install the rpm package called name\\nrpm -Uhv name.rpm Upgrade the rpm package called\\nname\\nrpm -e package Delete the rpm package called\\npackage\\nrpm -l package List the files in the package called\\npackage\\nrpm -ql package List the files and state the installed\\nversion of the package called\\npackage\\nrpm -i --force package Reinstall the rpm package called\\nname having deleted parts of it (not\\ndeleting using rpm -e)\\ntar -zxvf archive.tar.gz or\\ntar -zxvf archive.tgzDecompress the files contained in\\nthe zipped and tarred archive called\\narchive\\n./configure Execute the script preparing the\\ninstalled files for compiling\\nUser Administration\\nadduser accountname Create a new user call accountname\\npasswd accountname Give accountname a new password\\nsu Log in as superuser from current login\\nexit Stop being superuser and revert to\\nnormal user\\nLittle known tips and tricks\\nifconfig List ip addresses for all devices on\\nthe machine\\napropos subject List manual pages for subject\\nusermount Executes graphical application for\\nmounting and unmounting file\\nsystems' metadata={'source': 'The One Page Linux Manual.pdf', 'page': 0}\n"
     ]
    }
   ],
   "source": [
    "from langchain.document_loaders import PyPDFLoader\n",
    "loader = PyPDFLoader(\"The One Page Linux Manual.pdf\")\n",
    "pages = loader.load_and_split()\n",
    "\n",
    "print(pages[0])"
   ]
  },
  {
   "cell_type": "markdown",
   "metadata": {},
   "source": [
    "Using `PyPDFLoader` offers advantages such as simple, straightforward usage and easy access to page content and metadata, like page numbers, in a structured format. However, it has disadvantages, including limited text extraction capabilities compared to `PDFMinerLoader`."
   ]
  },
  {
   "cell_type": "markdown",
   "metadata": {},
   "source": [
    "## SeleniumURLLoader (URL)\n",
    "\n",
    "The `SeleniumURLLoader` module offers a robust yet user-friendly approach for loading HTML documents from a list of URLs requiring JavaScript rendering. Here is a guide and example for using this class, which starts by installing the package using the Python Package Manager (PIP). The code has been tested with `unstructured` and `selenium` libraries version 0.7.7 and 4.10.0, respectively. However, feel free to install the latest versions."
   ]
  },
  {
   "cell_type": "code",
   "execution_count": 1,
   "metadata": {},
   "outputs": [],
   "source": [
    "!pip install -q unstructured selenium"
   ]
  },
  {
   "cell_type": "markdown",
   "metadata": {},
   "source": [
    "Instantiate the `SeleniumURLLoader` class by providing a list of URLs to load, for example:"
   ]
  },
  {
   "cell_type": "code",
   "execution_count": 2,
   "metadata": {},
   "outputs": [
    {
     "name": "stderr",
     "output_type": "stream",
     "text": [
      "[nltk_data] Downloading package punkt to\n",
      "[nltk_data]     C:\\Users\\ElshanChalabiyev\\AppData\\Roaming\\nltk_data...\n",
      "[nltk_data]   Unzipping tokenizers\\punkt.zip.\n",
      "[nltk_data] Downloading package averaged_perceptron_tagger to\n",
      "[nltk_data]     C:\\Users\\ElshanChalabiyev\\AppData\\Roaming\\nltk_data...\n",
      "[nltk_data]   Unzipping taggers\\averaged_perceptron_tagger.zip.\n"
     ]
    },
    {
     "name": "stdout",
     "output_type": "stream",
     "text": [
      "page_content='NaN / NaN\\n\\nIT\\n\\nSalta link di navigazione\\n\\nCerca\\n\\nIT\\n\\nOPENASSISTANT TAKES ON CHATGPT!\\n\\nInformazioni\\n\\nShopping\\n\\nGuarda più tardi\\n\\nCondividi\\n\\nCopia link\\n\\nRiattiva l\\'audio\\n\\nSe la riproduzione non inizia a breve, prova a riavviare il dispositivo.\\n\\nProssimo video\\n\\nDal vivoIn programma\\n\\nRiproduci ora\\n\\nMachine Learning Street Talk\\n\\nIscriviti\\n\\nIscritto\\n\\nDisconnessione eseguita\\n\\nI video che guardi potrebbero essere aggiunti alla cronologia delle visualizzazioni della TV e influenzare i consigli sulla TV. Per evitare che ciò avvenga, annulla l\\'operazione e accedi a YouTube dal tuo computer.\\n\\nCambia fotocamera\\n\\nCondividi\\n\\nSi è verificato un errore durante il recupero delle informazioni di condivisione. Riprova più tardi.\\n\\n2:19\\n\\n2:19 / 59:51\\n\\nGuarda video completo\\n\\n•\\n\\nDiscussing Open Assistant and Fine-tuning Language Models\\n\\nScorri per i dettagli\\n\\nCapitoli\\n\\nDiscussing Open Assistant and Fine-tuning Language Models\\n    Discussing Open Assistant and Fine-tuning Language Models\\n    0:00\\n\\nDiscussing Open Assistant and Fine-tuning Language Models\\n\\n0:00\\n\\nOpen Assistant and Data Collection\\n    Open Assistant and Data Collection\\n    16:00\\n\\nOpen Assistant and Data Collection\\n\\n16:00\\n\\nData Collection and User Preferences\\n    Data Collection and User Preferences\\n    32:00\\n\\nData Collection and User Preferences\\n\\n32:00\\n\\nAddressing Criticisms and Ethical Considerations\\n    Addressing Criticisms and Ethical Considerations\\n    38:00\\n\\nAddressing Criticisms and Ethical Considerations\\n\\n38:00\\n\\nEthical Guidelines and Open AI Research\\n    Ethical Guidelines and Open AI Research\\n    48:00\\n\\nEthical Guidelines and Open AI Research\\n\\n48:00\\n\\nSincronizza con il minuto del video\\n\\nProdotti\\n\\nMachine Learning Street Talk ha taggato i prodotti riportati di seguito.\\n\\nUlteriori informazioni\\n\\nMachine Learning Street Talk StickerSpring8,20\\xa0€\\n            \\n          Visualizza\\n\\nMachine Learning Street Talk Indoor PillowSpring26,43\\xa0€\\n            \\n          Visualizza\\n\\nMachine Learning Street Talk Classic Pullover HoodieSpring38,29\\xa0€\\n            \\n          Visualizza\\n\\nMachine Learning Street Talk Premium Tank TopSpring23,70\\xa0€\\n            \\n          Visualizza\\n\\nMachine Learning Street Talk Premium Ring-Spun Cotton T-ShirtSpring24,61\\xa0€\\n            \\n          Visualizza\\n\\nMachine Learning Street Talk Classic Crewneck SweatshirtSpring37,78\\xa0€\\n            \\n          Visualizza\\n\\nMachine Learning Street Talk Unisex Zip HoodieSpring41,93\\xa0€\\n            \\n          Visualizza\\n\\nMachine Learning Street Talk Classic Long Sleeve TeeSpring26,43\\xa0€\\n            \\n          Visualizza\\n\\nMachine Learning Street Talk Classic Pullover HoodieSpring43,75\\xa0€\\n            \\n          Visualizza\\n\\nMachine Learning Street Talk Triblend TeeSpring26,43\\xa0€\\n            \\n          Visualizza\\n\\nMachine Learning Street Talk Classic Pullover HoodieSpring43,75\\xa0€\\n            \\n          Visualizza\\n\\nMachine Learning Street Talk Premium Ring-Spun Cotton T-ShirtSpring24,61\\xa0€\\n            \\n          Visualizza\\n\\nMachine Learning Street Talk Poster - 24\" x 36\"Spring24,61\\xa0€\\n            \\n          Visualizza\\n\\nMachine Learning Street Talk Essential TeeSpring27,35\\xa0€\\n            \\n          Visualizza\\n\\nMachine Learning Street Talk Premium Ring-Spun Cotton T-ShirtSpring24,61\\xa0€\\n            \\n          Visualizza\\n\\nMachine Learning Street Talk Classic Pullover HoodieSpring43,75\\xa0€\\n            \\n          Visualizza\\n\\nMachine Learning Street Talk Premium Tank TopSpring23,70\\xa0€\\n            \\n          Visualizza\\n\\nMachine Learning Street Talk Premium Long Sleeve TeeSpring26,43\\xa0€\\n            \\n          Visualizza\\n\\nMachine Learning Street Talk Premium Pullover HoodieSpring43,76\\xa0€\\n            \\n          Visualizza\\n\\nMachine Learning Street Talk Women\\'s Comfort TeeSpring23,70\\xa0€\\n            \\n          Visualizza\\n\\nMachine Learning Street Talk Men\\'s Stencil HoodieSpring48,31\\xa0€\\n            \\n          Visualizza\\n\\nMachine Learning Street Talk Classic Pullover HoodieSpring43,75\\xa0€\\n            \\n          Visualizza\\n\\nMachine Learning Street Talk Premium Pullover HoodieSpring43,76\\xa0€\\n            \\n          Visualizza\\n\\nMachine Learning Street Talk Classic Pullover HoodieSpring43,75\\xa0€\\n            \\n          Visualizza\\n\\nMachine Learning Street Talk Premium Pullover HoodieSpring43,76\\xa0€\\n            \\n          Visualizza\\n\\nDescrizione\\n\\nMachine Learning Street Talk\\n\\nPatreon:\\n\\nhttps://www.patreon.com/mlst\\n\\nDiscord:\\n\\nhttps://discord.gg/ESrGqhf5CB\\n\\nTwitter:\\n\\nhttps://twitter.com/MLStreetTalk\\n\\nIn this eye-opening interview, we dive deep into the world of Open Assistant, an ambitious project aiming to create a truly open-source AI language model. Our guest reveals the behind-the-scenes process of developing this revolutionary technology, addressing the critical role of community involvement and the importance of a diverse dataset. They also tackle the controversial topic of AI ethics, shedding light on the current state of the field and the necessity for public accountability.\\n\\nJoin us as we explore the inner workings of fine-tuned language models like LAMA and discuss how human data plays a crucial role in the development of intelligent AI systems. Our guest shares their experience of working on the Open Assistant project and the challenges they faced in creating a platform that allows people to contribute to the data set.\\n\\nWe also delve into the issue of privacy, discussing the terms of service governing data usage in the project, and how the team is working to improve transparency and user control over their data. The conversation takes a critical turn as our guest addresses the criticisms and ethical considerations surrounding the evaluation and user preference study of their chatbot, comparing it to chat GPT.\\n\\nFinally, we explore the future of the ML News channel and the Open Assistant project, touching on the potential impact of AI on society and the need for ethical guidelines and principles to ensure the overall welfare of humanity. Don\\'t miss this insightful and thought-provoking conversation that will change the way you view AI and its role in our world!\\n\\nhttps://open-assistant.io/\\n\\nDr. Yannic Kilcher:\\n\\n/\\xa0@yannickilcher\\n\\nDr. Tim Scarfe CTO XRAI:\\n\\nhttp://xrai.com\\n\\nTable of Contents:\\nDiscussing Open Assistant and Fine-tuning Language Models [\\n\\n00:00:00\\n\\n]\\nOpen Assistant and Data Collection [\\n\\n00:16:00\\n\\n]\\nData Collection and User Preferences [\\n\\n00:32:00\\n\\n]\\nAddressing Criticisms and Ethical Considerations [\\n\\n00:38:00\\n\\n]\\nEthical Guidelines and Open AI Research [\\n\\n00:48:00\\n\\nCapitoli\\n      \\n    \\n  \\n  \\n  \\n  \\n  \\n  \\n  Visualizza tutto\\n\\nDiscussing Open Assistant and Fine-tuning Language Models\\n    Discussing Open Assistant and Fine-tuning Language Models\\n    0:00\\n\\nDiscussing Open Assistant and Fine-tuning Language Models\\n\\n0:00\\n\\nOpen Assistant and Data Collection\\n    Open Assistant and Data Collection\\n    16:00\\n\\nOpen Assistant and Data Collection\\n\\n16:00\\n\\nData Collection and User Preferences\\n    Data Collection and User Preferences\\n    32:00\\n\\nData Collection and User Preferences\\n\\n32:00\\n\\nAddressing Criticisms and Ethical Considerations\\n    Addressing Criticisms and Ethical Considerations\\n    38:00\\n\\nAddressing Criticisms and Ethical Considerations\\n\\n38:00\\n\\nCommenti\\n      232\\n\\nCommenti più popolari\\n\\nDal più recente\\n\\nTrascrizione\\n\\nNaN / NaN\\n\\nOPENASSISTANT TAKES ON CHATGPT!\\n\\nMachine Learning Street Talk\\n\\nMachine Learning Street Talk\\n\\nIscriviti\\n\\nIscritto\\n\\n1517\\n\\nMi piace\\n\\nNon mi piace\\n\\nCondividi\\n\\nCondividi\\n\\nScarica\\n\\nScarica\\n\\nSalva\\n\\nSalva\\n\\n47.179 visualizzazioni\\n\\n2 mesi fa\\n\\nPatreon: https://www.patreon.com/mlst\\nDiscord: https://discord.gg/ESrGqhf5CB\\nTwitter: https://twitter.com/MLStreetTalk\\n\\n47.179 visualizzazioni • 19 apr 2023\\n\\nOPENASSISTANT TAKES ON CHATGPT!\\n\\n47.179 visualizzazioni\\n\\n47.179 visualizzazioni\\n\\n1517\\n\\nMi piace\\n\\nNon mi piace\\n\\nCondividi\\n\\nCondividi\\n\\nScarica\\n\\nScarica\\n\\nSalva\\n\\nSalva\\n\\nMachine Learning Street Talk\\n\\nMachine Learning Street Talk\\n\\nIscriviti\\n\\nIscritto\\n\\nPatreon:\\n\\nhttps://www.patreon.com/mlst\\n\\nDiscord:\\n\\nhttps://discord.gg/ESrGqhf5CB\\n\\nTwitter:\\n\\nhttps://twitter.com/MLStreetTalk\\n\\nIn this eye-opening interview, we dive deep into the world of Open Assistant, an ambitious project aiming to create a truly open-source AI language model. Our guest reveals the behind-the-scenes process of developing this revolutionary technology, addressing the critical role of community involvement and the importance of a diverse dataset. They also tackle the controversial topic of AI ethics, shedding light on the current state of the field and the necessity for public accountability.\\n\\nJoin us as we explore the inner workings of fine-tuned language models like LAMA and discuss how human data plays a crucial role in the development of intelligent AI systems. Our guest shares their experience of working on the Open Assistant project and the challenges they faced in creating a platform that allows people to contribute to the data set.\\n\\nWe also delve into the issue of privacy, discussing the terms of service governing data usage in the project, and how the team is working to improve transparency and user control over their data. The conversation takes a critical turn as our guest addresses the criticisms and ethical considerations surrounding the evaluation and user preference study of their chatbot, comparing it to chat GPT.\\n\\nFinally, we explore the future of the ML News channel and the Open Assistant project, touching on the potential impact of AI on society and the need for ethical guidelines and principles to ensure the overall welfare of humanity. Don\\'t miss this insightful and thought-provoking conversation that will change the way you view AI and its role in our world!\\n\\nhttps://open-assistant.io/\\n\\nDr. Yannic Kilcher:\\n\\n/\\xa0@yannickilcher\\n\\nDr. Tim Scarfe CTO XRAI:\\n\\nhttp://xrai.com\\n\\nTable of Contents:\\nDiscussing Open Assistant and Fine-tuning Language Models [\\n\\n00:00:00\\n\\n]\\nOpen Assistant and Data Collection [\\n\\n00:16:00\\n\\n]\\nData Collection and User Preferences [\\n\\n00:32:00\\n\\n]\\nAddressing Criticisms and Ethical Considerations [\\n\\n00:38:00\\n\\n]\\nEthical Guidelines and Open AI Research [\\n\\n00:48:00\\n\\nCapitoli\\n      \\n    \\n  \\n  \\n  \\n  \\n  \\n  \\n  Visualizza tutto\\n\\nDiscussing Open Assistant and Fine-tuning Language Models\\n    Discussing Open Assistant and Fine-tuning Language Models\\n    0:00\\n\\nDiscussing Open Assistant and Fine-tuning Language Models\\n\\n0:00\\n\\nOpen Assistant and Data Collection\\n    Open Assistant and Data Collection\\n    16:00\\n\\nOpen Assistant and Data Collection\\n\\n16:00\\n\\nData Collection and User Preferences\\n    Data Collection and User Preferences\\n    32:00\\n\\nData Collection and User Preferences\\n\\n32:00\\n\\nAddressing Criticisms and Ethical Considerations\\n    Addressing Criticisms and Ethical Considerations\\n    38:00\\n\\nAddressing Criticisms and Ethical Considerations\\n\\n38:00\\n\\nEthical Guidelines and Open AI Research\\n    Ethical Guidelines and Open AI Research\\n    48:00\\n\\nEthical Guidelines and Open AI Research\\n\\n48:00\\n\\nAcquista nel negozio Machine Learning Street Talk\\n\\nMachine Learning Street Talk Sticker\\n            \\n              \\n                8,20\\xa0€\\n                \\n                  + costi aggiuntivi\\n                \\n              \\n            \\n            \\n              \\n                Spring\\n                \\n              \\n              \\n              \\n            \\n          \\n          \\n            \\n              \\n            \\n            Be part of the MLST gang! PVC material with sun protection and waterproof. No decolorization. No fade. Tears off without leaving traces. Perfect to personalize laptops, skateboards, bikes, luggage, bedroom.\\n          \\n        \\n      \\n      \\n        Acquista\\n        \\n          Spring\\n\\nMachine Learning Street Talk Indoor Pillow\\n            \\n              \\n                26,43\\xa0€\\n                \\n                  + costi aggiuntivi\\n                \\n              \\n            \\n            \\n              \\n                Spring\\n                \\n              \\n              \\n              \\n            \\n          \\n          \\n            \\n              \\n            \\n            Be part of the MLST gang! Ultra plush decorative throw pillow. Suitable for indoor use. Designed by independent artists and printed in USA. Plush soft feel. Easy to wash.\\n          \\n        \\n      \\n      \\n        Acquista\\n        \\n          Spring\\n\\nMachine Learning Street Talk Classic Pullover Hoodie\\n            \\n              \\n                38,29\\xa0€\\n                \\n                  + costi aggiuntivi\\n                \\n              \\n            \\n            \\n              \\n                Spring\\n                \\n              \\n              \\n              \\n            \\n          \\n          \\n            \\n              \\n            \\n            Be part of the MLST gang! Custom designed graphic is printed in vivid color and high resolution using state of the art color transfer technology. Hoodies & Sweatshirts are made from super soft 50% cotton, 50% polyester. Printed in the USA. Guaranteed to last through hundreds of washes.\\n          \\n        \\n      \\n      \\n        Acquista\\n        \\n          Spring\\n\\nMachine Learning Street Talk Premium Tank Top\\n            \\n              \\n                23,70\\xa0€\\n                \\n                  + costi aggiuntivi\\n                \\n              \\n            \\n            \\n              \\n                Spring\\n                \\n              \\n              \\n              \\n            \\n          \\n          \\n            \\n              \\n            \\n            Be part of the MLST gang!\\n          \\n        \\n      \\n      \\n        Acquista\\n        \\n          Spring\\n\\nMachine Learning Street Talk Premium Ring-Spun Cotton T-Shirt\\n            \\n              \\n                24,61\\xa0€\\n                \\n                  + costi aggiuntivi\\n                \\n              \\n            \\n            \\n              \\n                Spring\\n                \\n              \\n              \\n              \\n            \\n          \\n          \\n            \\n              \\n            \\n            Be part of the MLST gang! Custom designed graphic is printed in vivid color and high resolution using state of the art color transfer technology. Shirts are made from super soft 100% combed ringspun cotton. Printed in the USA.\\n          \\n        \\n      \\n      \\n        Acquista\\n        \\n          Spring\\n\\nMachine Learning Street Talk Classic Crewneck Sweatshirt\\n            \\n              \\n                37,78\\xa0€\\n                \\n                  + costi aggiuntivi\\n                \\n              \\n            \\n            \\n              \\n                Spring\\n                \\n              \\n              \\n              \\n            \\n          \\n          \\n            \\n              \\n            \\n            Be part of the MLST gang!\\n          \\n        \\n      \\n      \\n        Acquista\\n        \\n          Spring\\n\\nChatGPT\\'s BIGGEST Feature Yet: Code Interpreter\\n          \\n        \\n        \\n          \\n          \\n\\n  \\n    \\n  \\n    MattVidPro AI\\n  \\n  \\n  \\n    MattVidPro AI\\n  \\n\\n\\n\\n\\n\\n\\n    •\\n    \\n  \\n  \\n    \\n    \\n    •\\n    \\n      24.683 visualizzazioni\\n    \\n      23 ore fa\\n    \\n  \\n\\n\\n  \\n\\n\\n\\n          \\n          Nuovo\\n\\nThe Mastermind Behind GPT-4 and the Future of AI | Ilya Sutskever | Eye on AI #118\\n          \\n        \\n        \\n          \\n          \\n\\n  \\n    \\n  \\n    Eye on AI\\n  \\n  \\n  \\n    Eye on AI\\n  \\n\\n\\n\\n\\n\\n\\n    •\\n    \\n  \\n  \\n    \\n    \\n    •\\n    \\n      337.409 visualizzazioni\\n    \\n      3 mesi fa\\n\\nMEGATHREAT: The Dangers Of AI Are WEIRDER Than You Think! | Yoshua Bengio\\n          \\n        \\n        \\n          \\n          \\n\\n  \\n    \\n  \\n    Tom Bilyeu\\n  \\n  \\n  \\n    Tom Bilyeu\\n  \\n\\n\\n\\n\\n\\n    •\\n    \\n  \\n  \\n    \\n    \\n    •\\n    \\n      155.334 visualizzazioni\\n    \\n      2 mesi fa\\n\\nAI IN THE DOCK (Sam Altman, Gary Marcus)\\n          \\n        \\n        \\n          \\n          \\n\\n  \\n    \\n  \\n    Machine Learning Street Talk\\n  \\n  \\n  \\n    Machine Learning Street Talk\\n  \\n\\n\\n\\n\\n\\n\\n    •\\n    \\n  \\n  \\n    \\n    \\n    •\\n    \\n      29.099 visualizzazioni\\n    \\n      1 mese fa\\n\\nConverting Neural Networks to Symbolic Models\\n          \\n        \\n        \\n          \\n          \\n\\n  \\n    \\n  \\n    Miles Cranmer\\n  \\n  \\n  \\n    Miles Cranmer\\n  \\n\\n\\n\\n\\n\\n\\n    •\\n    \\n  \\n  \\n    \\n    \\n    •\\n    \\n      18.997 visualizzazioni\\n    \\n      2 anni fa\\n\\nIs AI an Existential Threat? LIVE with Grady Booch and Connor Leahy.\\n          \\n        \\n        \\n          \\n          \\n\\n  \\n    \\n  \\n    Machine Learning Street Talk\\n  \\n  \\n  \\n    Machine Learning Street Talk\\n  \\n\\n\\n\\n\\n\\n\\n    •\\n    \\n  \\n  \\n    \\n    \\n    •\\n    \\n      11.919 visualizzazioni\\n    \\n      Trasmesso in streaming 2 settimane fa\\n\\nDecoding the Genome: Unraveling the Complexities with AI and Creativity\\n          \\n        \\n        \\n          \\n          \\n\\n  \\n    \\n  \\n    Machine Learning Street Talk\\n  \\n  \\n  \\n    Machine Learning Street Talk\\n  \\n\\n\\n\\n\\n\\n\\n    •\\n    \\n  \\n  \\n    \\n    \\n    •\\n    \\n      5495 visualizzazioni\\n    \\n      1 mese fa\\n\\nMUNK DEBATE ON AI (COMMENTARY) [DAVID FOSTER]\\n          \\n        \\n        \\n          \\n          \\n\\n  \\n    \\n  \\n    Machine Learning Street Talk\\n  \\n  \\n  \\n    Machine Learning Street Talk\\n  \\n\\n\\n\\n\\n\\n\\n    •\\n    \\n  \\n  \\n    \\n    \\n    •\\n    \\n      12.038 visualizzazioni\\n    \\n      6 giorni fa\\n    \\n  \\n\\n\\n  \\n\\n\\n\\n          \\n          Nuovo\\n\\nUnlocking Creativity with Prompt Engineering\\n          \\n        \\n        \\n          \\n          \\n\\n  \\n    \\n  \\n    a16z\\n  \\n  \\n  \\n    a16z\\n  \\n\\n\\n\\n\\n\\n\\n    •\\n    \\n  \\n  \\n    \\n    \\n    •\\n    \\n      25.303 visualizzazioni\\n    \\n      4 mesi fa\\n\\nJoscha Bach and Connor Leahy [HQ VERSION]\\n          \\n        \\n        \\n          \\n          \\n\\n  \\n    \\n  \\n    Machine Learning Street Talk\\n  \\n  \\n  \\n    Machine Learning Street Talk\\n  \\n\\n\\n\\n\\n\\n\\n    •\\n    \\n  \\n  \\n    \\n    \\n    •\\n    \\n      21.178 visualizzazioni\\n    \\n      2 settimane fa\\n\\nGPT 5 Unveiled: Everything We Know So Far (Release Date, Parameter Size, Predicted Abilities)\\n          \\n        \\n        \\n          \\n          \\n\\n  \\n    \\n  \\n    TheAIGRID\\n  \\n  \\n  \\n    TheAIGRID\\n  \\n\\n\\n\\n\\n\\n\\n    •\\n    \\n  \\n  \\n    \\n    \\n    •\\n    \\n      19.632 visualizzazioni\\n    \\n      2 giorni fa\\n    \\n  \\n\\n\\n  \\n\\n\\n\\n          \\n          Nuovo\\n\\nit\\n\\nAccedi\\n\\nAccedi\\n\\nPrima di continuare su YouTube\\n\\nRicordiamo che i nostri servizi sono finanziati principalmente tramite la pubblicazione di annunci.\\n\\nScopri di più\\n\\nsu come utilizziamo i dati per la pubblicità.\\n\\nUsiamo\\n\\ncookie\\n\\ne dati per:\\n\\nFornire e gestire i servizi Google\\n\\nMonitorare le interruzioni dei servizi e proteggere da spam, attività fraudolente e abusi\\n\\nMisurare il coinvolgimento del pubblico e le statistiche dei siti per capire come vengono usati i nostri servizi e per migliorarne la qualità\\n\\nSviluppare nuovi servizi migliori\\n\\nPubblicare annunci e valutarne l\\'efficacia\\n\\nMostrare contenuti personalizzati, in base alle tue impostazioni\\n\\nMostrare annunci personalizzati, in base alle tue impostazioni\\n\\nRifiuta tutto\\n\\nAccetta tutto\\n\\nAltre opzioni\\n\\nNorme sulla privacy\\n\\nTermini di servizio' metadata={'source': 'https://www.youtube.com/watch?v=TFa539R09EQ&t=139s'}\n"
     ]
    }
   ],
   "source": [
    "\n",
    "from langchain.document_loaders import SeleniumURLLoader\n",
    "\n",
    "urls = [\n",
    "    \"https://www.youtube.com/watch?v=TFa539R09EQ&t=139s\",\n",
    "    \"https://www.youtube.com/watch?v=6Zv6A_9urh4&t=112s\"\n",
    "]\n",
    "\n",
    "loader = SeleniumURLLoader(urls=urls)\n",
    "data = loader.load()\n",
    "\n",
    "print(data[0])"
   ]
  },
  {
   "cell_type": "code",
   "execution_count": 3,
   "metadata": {},
   "outputs": [
    {
     "data": {
      "text/plain": [
       "[Document(page_content='NaN / NaN\\n\\nIT\\n\\nSalta link di navigazione\\n\\nCerca\\n\\nIT\\n\\nOPENASSISTANT TAKES ON CHATGPT!\\n\\nInformazioni\\n\\nShopping\\n\\nGuarda più tardi\\n\\nCondividi\\n\\nCopia link\\n\\nRiattiva l\\'audio\\n\\nSe la riproduzione non inizia a breve, prova a riavviare il dispositivo.\\n\\nProssimo video\\n\\nDal vivoIn programma\\n\\nRiproduci ora\\n\\nMachine Learning Street Talk\\n\\nIscriviti\\n\\nIscritto\\n\\nDisconnessione eseguita\\n\\nI video che guardi potrebbero essere aggiunti alla cronologia delle visualizzazioni della TV e influenzare i consigli sulla TV. Per evitare che ciò avvenga, annulla l\\'operazione e accedi a YouTube dal tuo computer.\\n\\nCambia fotocamera\\n\\nCondividi\\n\\nSi è verificato un errore durante il recupero delle informazioni di condivisione. Riprova più tardi.\\n\\n2:19\\n\\n2:19 / 59:51\\n\\nGuarda video completo\\n\\n•\\n\\nDiscussing Open Assistant and Fine-tuning Language Models\\n\\nScorri per i dettagli\\n\\nCapitoli\\n\\nDiscussing Open Assistant and Fine-tuning Language Models\\n    Discussing Open Assistant and Fine-tuning Language Models\\n    0:00\\n\\nDiscussing Open Assistant and Fine-tuning Language Models\\n\\n0:00\\n\\nOpen Assistant and Data Collection\\n    Open Assistant and Data Collection\\n    16:00\\n\\nOpen Assistant and Data Collection\\n\\n16:00\\n\\nData Collection and User Preferences\\n    Data Collection and User Preferences\\n    32:00\\n\\nData Collection and User Preferences\\n\\n32:00\\n\\nAddressing Criticisms and Ethical Considerations\\n    Addressing Criticisms and Ethical Considerations\\n    38:00\\n\\nAddressing Criticisms and Ethical Considerations\\n\\n38:00\\n\\nEthical Guidelines and Open AI Research\\n    Ethical Guidelines and Open AI Research\\n    48:00\\n\\nEthical Guidelines and Open AI Research\\n\\n48:00\\n\\nSincronizza con il minuto del video\\n\\nProdotti\\n\\nMachine Learning Street Talk ha taggato i prodotti riportati di seguito.\\n\\nUlteriori informazioni\\n\\nMachine Learning Street Talk StickerSpring8,20\\xa0€\\n            \\n          Visualizza\\n\\nMachine Learning Street Talk Indoor PillowSpring26,43\\xa0€\\n            \\n          Visualizza\\n\\nMachine Learning Street Talk Classic Pullover HoodieSpring38,29\\xa0€\\n            \\n          Visualizza\\n\\nMachine Learning Street Talk Premium Tank TopSpring23,70\\xa0€\\n            \\n          Visualizza\\n\\nMachine Learning Street Talk Premium Ring-Spun Cotton T-ShirtSpring24,61\\xa0€\\n            \\n          Visualizza\\n\\nMachine Learning Street Talk Classic Crewneck SweatshirtSpring37,78\\xa0€\\n            \\n          Visualizza\\n\\nMachine Learning Street Talk Unisex Zip HoodieSpring41,93\\xa0€\\n            \\n          Visualizza\\n\\nMachine Learning Street Talk Classic Long Sleeve TeeSpring26,43\\xa0€\\n            \\n          Visualizza\\n\\nMachine Learning Street Talk Classic Pullover HoodieSpring43,75\\xa0€\\n            \\n          Visualizza\\n\\nMachine Learning Street Talk Triblend TeeSpring26,43\\xa0€\\n            \\n          Visualizza\\n\\nMachine Learning Street Talk Classic Pullover HoodieSpring43,75\\xa0€\\n            \\n          Visualizza\\n\\nMachine Learning Street Talk Premium Ring-Spun Cotton T-ShirtSpring24,61\\xa0€\\n            \\n          Visualizza\\n\\nMachine Learning Street Talk Poster - 24\" x 36\"Spring24,61\\xa0€\\n            \\n          Visualizza\\n\\nMachine Learning Street Talk Essential TeeSpring27,35\\xa0€\\n            \\n          Visualizza\\n\\nMachine Learning Street Talk Premium Ring-Spun Cotton T-ShirtSpring24,61\\xa0€\\n            \\n          Visualizza\\n\\nMachine Learning Street Talk Classic Pullover HoodieSpring43,75\\xa0€\\n            \\n          Visualizza\\n\\nMachine Learning Street Talk Premium Tank TopSpring23,70\\xa0€\\n            \\n          Visualizza\\n\\nMachine Learning Street Talk Premium Long Sleeve TeeSpring26,43\\xa0€\\n            \\n          Visualizza\\n\\nMachine Learning Street Talk Premium Pullover HoodieSpring43,76\\xa0€\\n            \\n          Visualizza\\n\\nMachine Learning Street Talk Women\\'s Comfort TeeSpring23,70\\xa0€\\n            \\n          Visualizza\\n\\nMachine Learning Street Talk Men\\'s Stencil HoodieSpring48,31\\xa0€\\n            \\n          Visualizza\\n\\nMachine Learning Street Talk Classic Pullover HoodieSpring43,75\\xa0€\\n            \\n          Visualizza\\n\\nMachine Learning Street Talk Premium Pullover HoodieSpring43,76\\xa0€\\n            \\n          Visualizza\\n\\nMachine Learning Street Talk Classic Pullover HoodieSpring43,75\\xa0€\\n            \\n          Visualizza\\n\\nMachine Learning Street Talk Premium Pullover HoodieSpring43,76\\xa0€\\n            \\n          Visualizza\\n\\nDescrizione\\n\\nMachine Learning Street Talk\\n\\nPatreon:\\n\\nhttps://www.patreon.com/mlst\\n\\nDiscord:\\n\\nhttps://discord.gg/ESrGqhf5CB\\n\\nTwitter:\\n\\nhttps://twitter.com/MLStreetTalk\\n\\nIn this eye-opening interview, we dive deep into the world of Open Assistant, an ambitious project aiming to create a truly open-source AI language model. Our guest reveals the behind-the-scenes process of developing this revolutionary technology, addressing the critical role of community involvement and the importance of a diverse dataset. They also tackle the controversial topic of AI ethics, shedding light on the current state of the field and the necessity for public accountability.\\n\\nJoin us as we explore the inner workings of fine-tuned language models like LAMA and discuss how human data plays a crucial role in the development of intelligent AI systems. Our guest shares their experience of working on the Open Assistant project and the challenges they faced in creating a platform that allows people to contribute to the data set.\\n\\nWe also delve into the issue of privacy, discussing the terms of service governing data usage in the project, and how the team is working to improve transparency and user control over their data. The conversation takes a critical turn as our guest addresses the criticisms and ethical considerations surrounding the evaluation and user preference study of their chatbot, comparing it to chat GPT.\\n\\nFinally, we explore the future of the ML News channel and the Open Assistant project, touching on the potential impact of AI on society and the need for ethical guidelines and principles to ensure the overall welfare of humanity. Don\\'t miss this insightful and thought-provoking conversation that will change the way you view AI and its role in our world!\\n\\nhttps://open-assistant.io/\\n\\nDr. Yannic Kilcher:\\n\\n/\\xa0@yannickilcher\\n\\nDr. Tim Scarfe CTO XRAI:\\n\\nhttp://xrai.com\\n\\nTable of Contents:\\nDiscussing Open Assistant and Fine-tuning Language Models [\\n\\n00:00:00\\n\\n]\\nOpen Assistant and Data Collection [\\n\\n00:16:00\\n\\n]\\nData Collection and User Preferences [\\n\\n00:32:00\\n\\n]\\nAddressing Criticisms and Ethical Considerations [\\n\\n00:38:00\\n\\n]\\nEthical Guidelines and Open AI Research [\\n\\n00:48:00\\n\\nCapitoli\\n      \\n    \\n  \\n  \\n  \\n  \\n  \\n  \\n  Visualizza tutto\\n\\nDiscussing Open Assistant and Fine-tuning Language Models\\n    Discussing Open Assistant and Fine-tuning Language Models\\n    0:00\\n\\nDiscussing Open Assistant and Fine-tuning Language Models\\n\\n0:00\\n\\nOpen Assistant and Data Collection\\n    Open Assistant and Data Collection\\n    16:00\\n\\nOpen Assistant and Data Collection\\n\\n16:00\\n\\nData Collection and User Preferences\\n    Data Collection and User Preferences\\n    32:00\\n\\nData Collection and User Preferences\\n\\n32:00\\n\\nAddressing Criticisms and Ethical Considerations\\n    Addressing Criticisms and Ethical Considerations\\n    38:00\\n\\nAddressing Criticisms and Ethical Considerations\\n\\n38:00\\n\\nCommenti\\n      232\\n\\nCommenti più popolari\\n\\nDal più recente\\n\\nTrascrizione\\n\\nNaN / NaN\\n\\nOPENASSISTANT TAKES ON CHATGPT!\\n\\nMachine Learning Street Talk\\n\\nMachine Learning Street Talk\\n\\nIscriviti\\n\\nIscritto\\n\\n1517\\n\\nMi piace\\n\\nNon mi piace\\n\\nCondividi\\n\\nCondividi\\n\\nScarica\\n\\nScarica\\n\\nSalva\\n\\nSalva\\n\\n47.179 visualizzazioni\\n\\n2 mesi fa\\n\\nPatreon: https://www.patreon.com/mlst\\nDiscord: https://discord.gg/ESrGqhf5CB\\nTwitter: https://twitter.com/MLStreetTalk\\n\\n47.179 visualizzazioni • 19 apr 2023\\n\\nOPENASSISTANT TAKES ON CHATGPT!\\n\\n47.179 visualizzazioni\\n\\n47.179 visualizzazioni\\n\\n1517\\n\\nMi piace\\n\\nNon mi piace\\n\\nCondividi\\n\\nCondividi\\n\\nScarica\\n\\nScarica\\n\\nSalva\\n\\nSalva\\n\\nMachine Learning Street Talk\\n\\nMachine Learning Street Talk\\n\\nIscriviti\\n\\nIscritto\\n\\nPatreon:\\n\\nhttps://www.patreon.com/mlst\\n\\nDiscord:\\n\\nhttps://discord.gg/ESrGqhf5CB\\n\\nTwitter:\\n\\nhttps://twitter.com/MLStreetTalk\\n\\nIn this eye-opening interview, we dive deep into the world of Open Assistant, an ambitious project aiming to create a truly open-source AI language model. Our guest reveals the behind-the-scenes process of developing this revolutionary technology, addressing the critical role of community involvement and the importance of a diverse dataset. They also tackle the controversial topic of AI ethics, shedding light on the current state of the field and the necessity for public accountability.\\n\\nJoin us as we explore the inner workings of fine-tuned language models like LAMA and discuss how human data plays a crucial role in the development of intelligent AI systems. Our guest shares their experience of working on the Open Assistant project and the challenges they faced in creating a platform that allows people to contribute to the data set.\\n\\nWe also delve into the issue of privacy, discussing the terms of service governing data usage in the project, and how the team is working to improve transparency and user control over their data. The conversation takes a critical turn as our guest addresses the criticisms and ethical considerations surrounding the evaluation and user preference study of their chatbot, comparing it to chat GPT.\\n\\nFinally, we explore the future of the ML News channel and the Open Assistant project, touching on the potential impact of AI on society and the need for ethical guidelines and principles to ensure the overall welfare of humanity. Don\\'t miss this insightful and thought-provoking conversation that will change the way you view AI and its role in our world!\\n\\nhttps://open-assistant.io/\\n\\nDr. Yannic Kilcher:\\n\\n/\\xa0@yannickilcher\\n\\nDr. Tim Scarfe CTO XRAI:\\n\\nhttp://xrai.com\\n\\nTable of Contents:\\nDiscussing Open Assistant and Fine-tuning Language Models [\\n\\n00:00:00\\n\\n]\\nOpen Assistant and Data Collection [\\n\\n00:16:00\\n\\n]\\nData Collection and User Preferences [\\n\\n00:32:00\\n\\n]\\nAddressing Criticisms and Ethical Considerations [\\n\\n00:38:00\\n\\n]\\nEthical Guidelines and Open AI Research [\\n\\n00:48:00\\n\\nCapitoli\\n      \\n    \\n  \\n  \\n  \\n  \\n  \\n  \\n  Visualizza tutto\\n\\nDiscussing Open Assistant and Fine-tuning Language Models\\n    Discussing Open Assistant and Fine-tuning Language Models\\n    0:00\\n\\nDiscussing Open Assistant and Fine-tuning Language Models\\n\\n0:00\\n\\nOpen Assistant and Data Collection\\n    Open Assistant and Data Collection\\n    16:00\\n\\nOpen Assistant and Data Collection\\n\\n16:00\\n\\nData Collection and User Preferences\\n    Data Collection and User Preferences\\n    32:00\\n\\nData Collection and User Preferences\\n\\n32:00\\n\\nAddressing Criticisms and Ethical Considerations\\n    Addressing Criticisms and Ethical Considerations\\n    38:00\\n\\nAddressing Criticisms and Ethical Considerations\\n\\n38:00\\n\\nEthical Guidelines and Open AI Research\\n    Ethical Guidelines and Open AI Research\\n    48:00\\n\\nEthical Guidelines and Open AI Research\\n\\n48:00\\n\\nAcquista nel negozio Machine Learning Street Talk\\n\\nMachine Learning Street Talk Sticker\\n            \\n              \\n                8,20\\xa0€\\n                \\n                  + costi aggiuntivi\\n                \\n              \\n            \\n            \\n              \\n                Spring\\n                \\n              \\n              \\n              \\n            \\n          \\n          \\n            \\n              \\n            \\n            Be part of the MLST gang! PVC material with sun protection and waterproof. No decolorization. No fade. Tears off without leaving traces. Perfect to personalize laptops, skateboards, bikes, luggage, bedroom.\\n          \\n        \\n      \\n      \\n        Acquista\\n        \\n          Spring\\n\\nMachine Learning Street Talk Indoor Pillow\\n            \\n              \\n                26,43\\xa0€\\n                \\n                  + costi aggiuntivi\\n                \\n              \\n            \\n            \\n              \\n                Spring\\n                \\n              \\n              \\n              \\n            \\n          \\n          \\n            \\n              \\n            \\n            Be part of the MLST gang! Ultra plush decorative throw pillow. Suitable for indoor use. Designed by independent artists and printed in USA. Plush soft feel. Easy to wash.\\n          \\n        \\n      \\n      \\n        Acquista\\n        \\n          Spring\\n\\nMachine Learning Street Talk Classic Pullover Hoodie\\n            \\n              \\n                38,29\\xa0€\\n                \\n                  + costi aggiuntivi\\n                \\n              \\n            \\n            \\n              \\n                Spring\\n                \\n              \\n              \\n              \\n            \\n          \\n          \\n            \\n              \\n            \\n            Be part of the MLST gang! Custom designed graphic is printed in vivid color and high resolution using state of the art color transfer technology. Hoodies & Sweatshirts are made from super soft 50% cotton, 50% polyester. Printed in the USA. Guaranteed to last through hundreds of washes.\\n          \\n        \\n      \\n      \\n        Acquista\\n        \\n          Spring\\n\\nMachine Learning Street Talk Premium Tank Top\\n            \\n              \\n                23,70\\xa0€\\n                \\n                  + costi aggiuntivi\\n                \\n              \\n            \\n            \\n              \\n                Spring\\n                \\n              \\n              \\n              \\n            \\n          \\n          \\n            \\n              \\n            \\n            Be part of the MLST gang!\\n          \\n        \\n      \\n      \\n        Acquista\\n        \\n          Spring\\n\\nMachine Learning Street Talk Premium Ring-Spun Cotton T-Shirt\\n            \\n              \\n                24,61\\xa0€\\n                \\n                  + costi aggiuntivi\\n                \\n              \\n            \\n            \\n              \\n                Spring\\n                \\n              \\n              \\n              \\n            \\n          \\n          \\n            \\n              \\n            \\n            Be part of the MLST gang! Custom designed graphic is printed in vivid color and high resolution using state of the art color transfer technology. Shirts are made from super soft 100% combed ringspun cotton. Printed in the USA.\\n          \\n        \\n      \\n      \\n        Acquista\\n        \\n          Spring\\n\\nMachine Learning Street Talk Classic Crewneck Sweatshirt\\n            \\n              \\n                37,78\\xa0€\\n                \\n                  + costi aggiuntivi\\n                \\n              \\n            \\n            \\n              \\n                Spring\\n                \\n              \\n              \\n              \\n            \\n          \\n          \\n            \\n              \\n            \\n            Be part of the MLST gang!\\n          \\n        \\n      \\n      \\n        Acquista\\n        \\n          Spring\\n\\nChatGPT\\'s BIGGEST Feature Yet: Code Interpreter\\n          \\n        \\n        \\n          \\n          \\n\\n  \\n    \\n  \\n    MattVidPro AI\\n  \\n  \\n  \\n    MattVidPro AI\\n  \\n\\n\\n\\n\\n\\n\\n    •\\n    \\n  \\n  \\n    \\n    \\n    •\\n    \\n      24.683 visualizzazioni\\n    \\n      23 ore fa\\n    \\n  \\n\\n\\n  \\n\\n\\n\\n          \\n          Nuovo\\n\\nThe Mastermind Behind GPT-4 and the Future of AI | Ilya Sutskever | Eye on AI #118\\n          \\n        \\n        \\n          \\n          \\n\\n  \\n    \\n  \\n    Eye on AI\\n  \\n  \\n  \\n    Eye on AI\\n  \\n\\n\\n\\n\\n\\n\\n    •\\n    \\n  \\n  \\n    \\n    \\n    •\\n    \\n      337.409 visualizzazioni\\n    \\n      3 mesi fa\\n\\nMEGATHREAT: The Dangers Of AI Are WEIRDER Than You Think! | Yoshua Bengio\\n          \\n        \\n        \\n          \\n          \\n\\n  \\n    \\n  \\n    Tom Bilyeu\\n  \\n  \\n  \\n    Tom Bilyeu\\n  \\n\\n\\n\\n\\n\\n    •\\n    \\n  \\n  \\n    \\n    \\n    •\\n    \\n      155.334 visualizzazioni\\n    \\n      2 mesi fa\\n\\nAI IN THE DOCK (Sam Altman, Gary Marcus)\\n          \\n        \\n        \\n          \\n          \\n\\n  \\n    \\n  \\n    Machine Learning Street Talk\\n  \\n  \\n  \\n    Machine Learning Street Talk\\n  \\n\\n\\n\\n\\n\\n\\n    •\\n    \\n  \\n  \\n    \\n    \\n    •\\n    \\n      29.099 visualizzazioni\\n    \\n      1 mese fa\\n\\nConverting Neural Networks to Symbolic Models\\n          \\n        \\n        \\n          \\n          \\n\\n  \\n    \\n  \\n    Miles Cranmer\\n  \\n  \\n  \\n    Miles Cranmer\\n  \\n\\n\\n\\n\\n\\n\\n    •\\n    \\n  \\n  \\n    \\n    \\n    •\\n    \\n      18.997 visualizzazioni\\n    \\n      2 anni fa\\n\\nIs AI an Existential Threat? LIVE with Grady Booch and Connor Leahy.\\n          \\n        \\n        \\n          \\n          \\n\\n  \\n    \\n  \\n    Machine Learning Street Talk\\n  \\n  \\n  \\n    Machine Learning Street Talk\\n  \\n\\n\\n\\n\\n\\n\\n    •\\n    \\n  \\n  \\n    \\n    \\n    •\\n    \\n      11.919 visualizzazioni\\n    \\n      Trasmesso in streaming 2 settimane fa\\n\\nDecoding the Genome: Unraveling the Complexities with AI and Creativity\\n          \\n        \\n        \\n          \\n          \\n\\n  \\n    \\n  \\n    Machine Learning Street Talk\\n  \\n  \\n  \\n    Machine Learning Street Talk\\n  \\n\\n\\n\\n\\n\\n\\n    •\\n    \\n  \\n  \\n    \\n    \\n    •\\n    \\n      5495 visualizzazioni\\n    \\n      1 mese fa\\n\\nMUNK DEBATE ON AI (COMMENTARY) [DAVID FOSTER]\\n          \\n        \\n        \\n          \\n          \\n\\n  \\n    \\n  \\n    Machine Learning Street Talk\\n  \\n  \\n  \\n    Machine Learning Street Talk\\n  \\n\\n\\n\\n\\n\\n\\n    •\\n    \\n  \\n  \\n    \\n    \\n    •\\n    \\n      12.038 visualizzazioni\\n    \\n      6 giorni fa\\n    \\n  \\n\\n\\n  \\n\\n\\n\\n          \\n          Nuovo\\n\\nUnlocking Creativity with Prompt Engineering\\n          \\n        \\n        \\n          \\n          \\n\\n  \\n    \\n  \\n    a16z\\n  \\n  \\n  \\n    a16z\\n  \\n\\n\\n\\n\\n\\n\\n    •\\n    \\n  \\n  \\n    \\n    \\n    •\\n    \\n      25.303 visualizzazioni\\n    \\n      4 mesi fa\\n\\nJoscha Bach and Connor Leahy [HQ VERSION]\\n          \\n        \\n        \\n          \\n          \\n\\n  \\n    \\n  \\n    Machine Learning Street Talk\\n  \\n  \\n  \\n    Machine Learning Street Talk\\n  \\n\\n\\n\\n\\n\\n\\n    •\\n    \\n  \\n  \\n    \\n    \\n    •\\n    \\n      21.178 visualizzazioni\\n    \\n      2 settimane fa\\n\\nGPT 5 Unveiled: Everything We Know So Far (Release Date, Parameter Size, Predicted Abilities)\\n          \\n        \\n        \\n          \\n          \\n\\n  \\n    \\n  \\n    TheAIGRID\\n  \\n  \\n  \\n    TheAIGRID\\n  \\n\\n\\n\\n\\n\\n\\n    •\\n    \\n  \\n  \\n    \\n    \\n    •\\n    \\n      19.632 visualizzazioni\\n    \\n      2 giorni fa\\n    \\n  \\n\\n\\n  \\n\\n\\n\\n          \\n          Nuovo\\n\\nit\\n\\nAccedi\\n\\nAccedi\\n\\nPrima di continuare su YouTube\\n\\nRicordiamo che i nostri servizi sono finanziati principalmente tramite la pubblicazione di annunci.\\n\\nScopri di più\\n\\nsu come utilizziamo i dati per la pubblicità.\\n\\nUsiamo\\n\\ncookie\\n\\ne dati per:\\n\\nFornire e gestire i servizi Google\\n\\nMonitorare le interruzioni dei servizi e proteggere da spam, attività fraudolente e abusi\\n\\nMisurare il coinvolgimento del pubblico e le statistiche dei siti per capire come vengono usati i nostri servizi e per migliorarne la qualità\\n\\nSviluppare nuovi servizi migliori\\n\\nPubblicare annunci e valutarne l\\'efficacia\\n\\nMostrare contenuti personalizzati, in base alle tue impostazioni\\n\\nMostrare annunci personalizzati, in base alle tue impostazioni\\n\\nRifiuta tutto\\n\\nAccetta tutto\\n\\nAltre opzioni\\n\\nNorme sulla privacy\\n\\nTermini di servizio', metadata={'source': 'https://www.youtube.com/watch?v=TFa539R09EQ&t=139s'}),\n",
       " Document(page_content=\"Can AI Create Real Art?\\n\\nInformazioni\\n\\nShopping\\n\\nRiattiva l'audio\\n\\nSe la riproduzione non inizia a breve, prova a riavviare il dispositivo.\\n\\nDisconnessione eseguita\\n\\nI video che guardi potrebbero essere aggiunti alla cronologia delle visualizzazioni della TV e influenzare i consigli sulla TV. Per evitare che ciò avvenga, annulla l'operazione e accedi a YouTube dal tuo computer.\\n\\nMachine Learning Street Talk\\n\\nIscriviti\\n\\nIscritto\\n\\nProssimo video\\n\\nDal vivoIn programma\\n\\nRiproduci ora\\n\\nCambia fotocamera\\n\\nCondividi\\n\\nSi è verificato un errore durante il recupero delle informazioni di condivisione. Riprova più tardi.\\n\\nGuarda più tardi\\n\\nCondividi\\n\\nCopia link\\n\\n1:52\\n\\n1:52 / 38:19\\n\\n•\\n\\nScorri per i dettagli\\n\\nNaN / NaN\\n\\nCerca\", metadata={'source': 'https://www.youtube.com/watch?v=6Zv6A_9urh4&t=112s'})]"
      ]
     },
     "execution_count": 3,
     "metadata": {},
     "output_type": "execute_result"
    }
   ],
   "source": [
    "data"
   ]
  },
  {
   "cell_type": "markdown",
   "metadata": {},
   "source": [
    "The `SeleniumURLLoader` class includes the following attributes:\n",
    "\n",
    "- `URLs` (`List[str]`): List of URLs to load.\n",
    "- `continue_on_failure` (`bool`, default=True): Continues loading other URLs on failure if True.\n",
    "- `browser` (`str`, default=\"chrome\"): Browser selection, either 'Chrome' or 'Firefox'.\n",
    "- `executable_path` (`Optional[str]`, default=None): Browser executable path.\n",
    "- `headless` (`bool`, default=True): Browser runs in headless mode if True.\n",
    "\n",
    "Customize these attributes during `SeleniumURLLoader` instance initialization, such as using Firefox instead of Chrome by setting the browser to \"firefox\":\n"
   ]
  },
  {
   "cell_type": "code",
   "execution_count": 4,
   "metadata": {},
   "outputs": [],
   "source": [
    "loader = SeleniumURLLoader(urls=urls, browser=\"firefox\")"
   ]
  },
  {
   "cell_type": "markdown",
   "metadata": {},
   "source": [
    "Upon invoking the `load()` method, a list of `Document` instances containing the loaded content is returned. Each `Document` instance includes a `page_content` attribute with the extracted text from the HTML and a `metadata` attribute containing the source URL.\n",
    "\n",
    "Bear in mind that `SeleniumURLLoader` may be slower than other loaders since it initializes a browser instance for each URL. Nevertheless, it is advantageous for loading pages necessitating JavaScript rendering.\n",
    "\n",
    "💡\n",
    "This approach will not work in Google Colab environment without further configuration, which is not in the scope of this course. Try running the code directly using the Python interpreter.\n"
   ]
  },
  {
   "cell_type": "markdown",
   "metadata": {},
   "source": [
    "## Google Drive loader\n",
    "\n",
    "The LangChain Google Drive Loader efficiently imports data from Google Drive by using the `GoogleDriveLoader` class. It can fetch data from a list of Google Docs document IDs or a single folder ID.\n",
    "\n",
    "### Prepare necessary credentials and tokens:\n",
    "\n",
    "- By default, the GoogleDriveLoader searches for the `credentials.json` file in `~/.credentials/credentials.json`. Use the `credentials_file` keyword argument to modify this path.\n",
    "- The `token.json` file follows the same principle and will be created automatically upon the loader's first use.\n",
    "\n",
    "To set up the `credentials_file`, follow these steps:\n",
    "\n",
    "1. Create a new Google Cloud Platform project or use an existing one by visiting the Google Cloud Console. Ensure that billing is enabled for your project.\n",
    "2. Enable the Google Drive API by navigating to its dashboard in the Google Cloud Console and clicking \"Enable.\"\n",
    "3. Create a service account by going to the Service Accounts page in the Google Cloud Console. Follow the prompts to set up a new service account.\n",
    "4. Assign necessary roles to the service account, such as \"Google Drive API - Drive File Access\" and \"Google Drive API - Drive Metadata Read/Write Access,\" depending on your needs.\n",
    "5. After creating the service account, access the \"Actions\" menu next to it, select \"Manage keys,\" click \"Add Key,\" and choose \"JSON\" as the key type. This generates a JSON key file and downloads it to your computer, which serves as your `credentials_file`.\n",
    "\n",
    "### Retrieve the folder or document ID from the URL:\n",
    "\n",
    "- Folder: `https://drive.google.com/drive/u/0/folders/{folder_id}`\n",
    "- Document: `https://docs.google.com/document/d/{document_id}/edit`\n",
    "\n",
    "### Import the `GoogleDriveLoader` class:\n"
   ]
  },
  {
   "cell_type": "code",
   "execution_count": 5,
   "metadata": {},
   "outputs": [],
   "source": [
    "from langchain.document_loaders import GoogleDriveLoader"
   ]
  },
  {
   "cell_type": "markdown",
   "metadata": {},
   "source": [
    "Instantiate GoogleDriveLoader:"
   ]
  },
  {
   "cell_type": "code",
   "execution_count": null,
   "metadata": {},
   "outputs": [],
   "source": [
    "loader = GoogleDriveLoader(\n",
    "    folder_id=\"your_folder_id\",\n",
    "    recursive=False  # Optional: Fetch files from subfolders recursively. Defaults to False.\n",
    ")"
   ]
  },
  {
   "cell_type": "markdown",
   "metadata": {},
   "source": [
    "Load the documents:"
   ]
  },
  {
   "cell_type": "code",
   "execution_count": null,
   "metadata": {},
   "outputs": [],
   "source": [
    "docs = loader.load()"
   ]
  },
  {
   "cell_type": "markdown",
   "metadata": {},
   "source": [
    "Note that currently, only Google Docs are supported."
   ]
  },
  {
   "cell_type": "markdown",
   "metadata": {},
   "source": [
    "## Conclusion\n",
    "\n",
    "In conclusion, the process of streamlined data ingestion has been significantly simplified with the integration of various powerful loaders, including `TextLoader`, `PyPDFLoader`, `SeleniumURLLoader`, and `Google Drive Loader`. Each of these tools caters to specific file types and data sources, ensuring efficient and comprehensive data management.\n",
    "\n",
    "In the next lesson, we'll learn about common ways of splitting texts into smaller chunks, so that they can easily be inserted into prompts with limited token size."
   ]
  }
 ],
 "metadata": {
  "kernelspec": {
   "display_name": "activeloop_env",
   "language": "python",
   "name": "python3"
  },
  "language_info": {
   "codemirror_mode": {
    "name": "ipython",
    "version": 3
   },
   "file_extension": ".py",
   "mimetype": "text/x-python",
   "name": "python",
   "nbconvert_exporter": "python",
   "pygments_lexer": "ipython3",
   "version": "3.11.1"
  },
  "orig_nbformat": 4
 },
 "nbformat": 4,
 "nbformat_minor": 2
}
